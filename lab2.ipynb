{
 "cells": [
  {
   "cell_type": "code",
   "execution_count": 2,
   "metadata": {},
   "outputs": [],
   "source": [
    "import numpy as np\n",
    "import pandas as pd\n",
    "import scipy.stats as st\n",
    "import statsmodels.stats.weightstats \n",
    "from math import sqrt"
   ]
  },
  {
   "cell_type": "code",
   "execution_count": 3,
   "metadata": {},
   "outputs": [],
   "source": [
    "file = 'mathStatics_lab1.xlsx'\n",
    "\n",
    "df = pd.read_excel(file)\n",
    "x_i = np.array(df).round(2)\n",
    "\n",
    "def find_var_interval(x_i, alpha, df):\n",
    "    return ((df-1)*np.var(x_i, ddof=1)/st.chi2.ppf(1-(1-alpha)/2, df-1), (df-1)*np.var(x_i, ddof=1)/st.chi2.ppf((1-alpha)/2, df-1))\n",
    "\n",
    "def find_mean_interval_group(mean, std, df, alpha):\n",
    "    return (mean - std/sqrt(df) * st.t.ppf(1-(1-alpha)/2, df-1), mean + std/sqrt(df) * st.t.ppf(1-(1-alpha)/2, df-1))\n",
    "\n",
    "def find_var_interval_group(var, alpha, df):\n",
    "    return ((df-1)*var/st.chi2.ppf(1-(1-alpha)/2, df-1), (df-1)*var/st.chi2.ppf((1-alpha)/2, df-1))"
   ]
  },
  {
   "cell_type": "code",
   "execution_count": 4,
   "metadata": {},
   "outputs": [
    {
     "name": "stdout",
     "output_type": "stream",
     "text": [
      "Выборочные числовые характеристики:\n",
      "Мат. ожидание: 8.8466\n",
      "Дисперсия: 78.93991269387755\n",
      "Негруппированная выборка:\n",
      "95% доверительный интервал для мат. ожидания: (array([6.32156392]), array([11.37163608]))\n",
      "95% доверительный интервал для дисперсии:(55.08292189844191, 122.58171326729153)\n",
      "Группированная выборка:\n",
      "95% доверительный интервал для мат. ожидания: (6.40444516447769, 11.384754835522312)\n",
      "95% доверительный интервал для дисперсии:(53.57158503874262, 119.2183793118503)\n"
     ]
    }
   ],
   "source": [
    "print(f\"Выборочные числовые характеристики:\")\n",
    "print(f\"Мат. ожидание: {np.mean(x_i)}\")\n",
    "print(f\"Дисперсия: {np.var(x_i, ddof=1)}\")\n",
    "print(\"Негруппированная выборка:\")\n",
    "print(f\"95% доверительный интервал для мат. ожидания: {st.t.interval(confidence=0.95, df=len(x_i)-1, loc=np.mean(x_i), scale=st.sem(x_i))}\")\n",
    "print(f\"95% доверительный интервал для дисперсии:{find_var_interval(x_i, 0.95, 50)}\")\n",
    "print(\"Группированная выборка:\")\n",
    "print(f\"95% доверительный интервал для мат. ожидания: {find_mean_interval_group(8.8946, sqrt(76.774), 50, 0.95)}\")\n",
    "print(f\"95% доверительный интервал для дисперсии:{find_var_interval_group(76.774, 0.95, 50)}\")"
   ]
  },
  {
   "cell_type": "code",
   "execution_count": 5,
   "metadata": {},
   "outputs": [
    {
     "name": "stdout",
     "output_type": "stream",
     "text": [
      "Проверка гипотез:\n",
      "H0_1 - отклоняем\n",
      "H0_2 - отклоняем\n"
     ]
    }
   ],
   "source": [
    "print(\"Проверка двух гипотез:\")\n",
    "m_interval = st.t.interval(confidence=0.95, df=len(x_i)-1, loc=np.mean(x_i), scale=st.sem(x_i))\n",
    "m_value = np.mean(x_i) + 0.5*np.var(x_i, ddof=1)\n",
    "if m_interval[0] < m_value < m_interval[1]:\n",
    "    print(f\"H0_1 - принимаем\")\n",
    "else:\n",
    "    print(f\"H0_1 - отклоняем\")\n",
    "var_interval = find_var_interval(x_i, 0.95, 50)\n",
    "var_value = 2*np.var(x_i, ddof=1)\n",
    "if var_interval[0] < var_value < var_interval[1]:\n",
    "    print(f\"H0_2 - принимаем\")\n",
    "else:\n",
    "    print(f\"H0_2 - отклоняем\")"
   ]
  }
 ],
 "metadata": {
  "kernelspec": {
   "display_name": "Python 3",
   "language": "python",
   "name": "python3"
  },
  "language_info": {
   "codemirror_mode": {
    "name": "ipython",
    "version": 3
   },
   "file_extension": ".py",
   "mimetype": "text/x-python",
   "name": "python",
   "nbconvert_exporter": "python",
   "pygments_lexer": "ipython3",
   "version": "3.10.11"
  },
  "orig_nbformat": 4
 },
 "nbformat": 4,
 "nbformat_minor": 2
}
